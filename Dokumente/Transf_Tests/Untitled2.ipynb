{
 "cells": [
  {
   "cell_type": "code",
   "execution_count": 8,
   "id": "5bd3bb3a-9e53-412e-b78d-0d9a64e96fea",
   "metadata": {},
   "outputs": [],
   "source": [
    "from torch_geometric.utils import erdos_renyi_graph, stochastic_blockmodel_graph, barabasi_albert_graph"
   ]
  },
  {
   "cell_type": "code",
   "execution_count": 9,
   "id": "9dff4b41-9cc6-4d7b-a823-a7f92abfcd50",
   "metadata": {},
   "outputs": [],
   "source": [
    "import torch\n",
    "from torch_geometric.data import Data\n",
    "from torch_geometric.loader import DataLoader"
   ]
  },
  {
   "cell_type": "code",
   "execution_count": 10,
   "id": "74e4e541-2f0b-40a8-8c7c-9694473c0890",
   "metadata": {},
   "outputs": [],
   "source": [
    "x = torch.ones(50).reshape(50,1)\n",
    "edge_index = erdos_renyi_graph(50, 0.1)\n",
    "gr  = Data(x=x,  edge_index = edge_index, y=torch.ones(1))"
   ]
  },
  {
   "cell_type": "code",
   "execution_count": 12,
   "id": "400f9bc4-488a-406f-9a68-5819883ef6b1",
   "metadata": {},
   "outputs": [
    {
     "data": {
      "text/plain": [
       "Data(x=[50, 1], edge_index=[2, 254], y=[1])"
      ]
     },
     "execution_count": 12,
     "metadata": {},
     "output_type": "execute_result"
    }
   ],
   "source": [
    "gr"
   ]
  },
  {
   "cell_type": "code",
   "execution_count": null,
   "id": "9b6330c3-e202-4272-b27d-854b81b6a447",
   "metadata": {},
   "outputs": [],
   "source": []
  }
 ],
 "metadata": {
  "kernelspec": {
   "display_name": "Python 3",
   "language": "python",
   "name": "python3"
  },
  "language_info": {
   "codemirror_mode": {
    "name": "ipython",
    "version": 3
   },
   "file_extension": ".py",
   "mimetype": "text/x-python",
   "name": "python",
   "nbconvert_exporter": "python",
   "pygments_lexer": "ipython3",
   "version": "3.8.12"
  }
 },
 "nbformat": 4,
 "nbformat_minor": 5
}
