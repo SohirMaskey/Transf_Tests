{
 "cells": [
  {
   "cell_type": "code",
   "execution_count": 144,
   "id": "1d860ded-07f3-4d66-b592-03a9a229f39a",
   "metadata": {},
   "outputs": [
    {
     "name": "stderr",
     "output_type": "stream",
     "text": [
      "<ipython-input-144-01c3c1a27f08>:12: DeprecationWarning: `set_matplotlib_formats` is deprecated since IPython 7.23, directly use `matplotlib_inline.backend_inline.set_matplotlib_formats()`\n",
      "  set_matplotlib_formats('svg', 'pdf') # For export\n",
      "Global seed set to 42\n"
     ]
    },
    {
     "name": "stdout",
     "output_type": "stream",
     "text": [
      "cpu\n"
     ]
    }
   ],
   "source": [
    "## Standard libraries\n",
    "import os\n",
    "import json\n",
    "import math\n",
    "import numpy as np\n",
    "import time\n",
    "\n",
    "## Imports for plotting\n",
    "import matplotlib.pyplot as plt\n",
    "%matplotlib inline\n",
    "from IPython.display import set_matplotlib_formats\n",
    "set_matplotlib_formats('svg', 'pdf') # For export\n",
    "from matplotlib.colors import to_rgb\n",
    "import matplotlib\n",
    "matplotlib.rcParams['lines.linewidth'] = 2.0\n",
    "\n",
    "#import seaborn as sns\n",
    "#sns.reset_orig()\n",
    "#sns.set()\n",
    "\n",
    "## Progress bar\n",
    "from tqdm.notebook import tqdm\n",
    "\n",
    "## PyTorch\n",
    "import torch\n",
    "import torch.nn as nn\n",
    "import torch.nn.functional as F\n",
    "import torch.utils.data as data\n",
    "import torch.optim as optim\n",
    "# Torchvision\n",
    "import torchvision\n",
    "from torchvision.datasets import CIFAR10\n",
    "from torchvision import transforms\n",
    "# PyTorch Lightning\n",
    "try:\n",
    "    import pytorch_lightning as pl\n",
    "except ModuleNotFoundError: # Google Colab does not have PyTorch Lightning installed by default. Hence, we do it here if necessary\n",
    "    !pip install --quiet pytorch-lightning>=1.4\n",
    "    import pytorch_lightning as pl\n",
    "from pytorch_lightning.callbacks import LearningRateMonitor, ModelCheckpoint\n",
    "\n",
    "# Path to the folder where the datasets are/should be downloaded (e.g. CIFAR10)\n",
    "DATASET_PATH = \"../data\"\n",
    "CHECKPOINT_PATH = \"../saved_models\"\n",
    "\n",
    "\n",
    "# Setting the seed\n",
    "pl.seed_everything(42)\n",
    "\n",
    "# Ensure that all operations are deterministic on GPU (if used) for reproducibility\n",
    "torch.backends.cudnn.determinstic = True\n",
    "torch.backends.cudnn.benchmark = False\n",
    "\n",
    "device = torch.device(\"cuda:0\") if torch.cuda.is_available() else torch.device(\"cpu\")\n",
    "print(device)"
   ]
  },
  {
   "cell_type": "code",
   "execution_count": 145,
   "id": "ed5c2c16-4e7f-4ae0-8512-0aec01eb7ddd",
   "metadata": {},
   "outputs": [],
   "source": [
    "class GCNLayer(nn.Module):\n",
    "\n",
    "    def __init__(self, c_in, c_out):\n",
    "        super().__init__()\n",
    "        self.projection = nn.Linear(c_in, c_out)\n",
    "\n",
    "    def forward(self, node_feats, adj_matrix):\n",
    "        \"\"\"\n",
    "        Inputs:\n",
    "            node_feats - Tensor with node features of shape [batch_size, num_nodes, c_in]\n",
    "            adj_matrix - Batch of adjacency matrices of the graph. If there is an edge from i to j, adj_matrix[b,i,j]=1 else 0.\n",
    "                         Supports directed edges by non-symmetric matrices. Assumes to already have added the identity connections.\n",
    "                         Shape: [batch_size, num_nodes, num_nodes]\n",
    "        \"\"\"\n",
    "        # Num neighbours = number of incoming edges\n",
    "        num_neighbours = adj_matrix.sum(dim=-1, keepdims=True)\n",
    "        node_feats = self.projection(node_feats)\n",
    "        node_feats = torch.bmm(adj_matrix, node_feats)\n",
    "        node_feats = node_feats / num_neighbours\n",
    "        return node_feats"
   ]
  },
  {
   "cell_type": "code",
   "execution_count": 146,
   "id": "4e3dbfef-9bb8-4168-b7fe-ae3eb6e84578",
   "metadata": {},
   "outputs": [],
   "source": [
    "class GATLayer(nn.Module):\n",
    "\n",
    "    def __init__(self, c_in, c_out, num_heads=1, concat_heads=True, alpha=0.2):\n",
    "        \"\"\"\n",
    "        Inputs:\n",
    "            c_in - Dimensionality of input features\n",
    "            c_out - Dimensionality of output features\n",
    "            num_heads - Number of heads, i.e. attention mechanisms to apply in parallel. The\n",
    "                        output features are equally split up over the heads if concat_heads=True.\n",
    "            concat_heads - If True, the output of the different heads is concatenated instead of averaged.\n",
    "            alpha - Negative slope of the LeakyReLU activation.\n",
    "        \"\"\"\n",
    "        super().__init__()\n",
    "        self.num_heads = num_heads\n",
    "        self.concat_heads = concat_heads\n",
    "        if self.concat_heads:\n",
    "            assert c_out % num_heads == 0, \"Number of output features must be a multiple of the count of heads.\"\n",
    "            c_out = c_out // num_heads\n",
    "\n",
    "        # Sub-modules and parameters needed in the layer\n",
    "        self.projection = nn.Linear(c_in, c_out * num_heads)\n",
    "        self.a = nn.Parameter(torch.Tensor(num_heads, 2 * c_out)) # One per head\n",
    "        self.leakyrelu = nn.LeakyReLU(alpha)\n",
    "\n",
    "        # Initialization from the original implementation\n",
    "        nn.init.xavier_uniform_(self.projection.weight.data, gain=1.414)\n",
    "        nn.init.xavier_uniform_(self.a.data, gain=1.414)\n",
    "\n",
    "    def forward(self, node_feats, adj_matrix, print_attn_probs=False):\n",
    "        \"\"\"\n",
    "        Inputs:\n",
    "            node_feats - Input features of the node. Shape: [batch_size, c_in]\n",
    "            adj_matrix - Adjacency matrix including self-connections. Shape: [batch_size, num_nodes, num_nodes]\n",
    "            print_attn_probs - If True, the attention weights are printed during the forward pass (for debugging purposes)\n",
    "        \"\"\"\n",
    "        batch_size, num_nodes = node_feats.size(0), node_feats.size(1)\n",
    "\n",
    "        # Apply linear layer and sort nodes by head\n",
    "        node_feats = self.projection(node_feats)\n",
    "        node_feats = node_feats.view(batch_size, num_nodes, self.num_heads, -1)\n",
    "\n",
    "        # We need to calculate the attention logits for every edge in the adjacency matrix\n",
    "        # Doing this on all possible combinations of nodes is very expensive\n",
    "        # => Create a tensor of [W*h_i||W*h_j] with i and j being the indices of all edges\n",
    "        edges = adj_matrix.nonzero(as_tuple=False) # Returns indices where the adjacency matrix is not 0 => edges\n",
    "        node_feats_flat = node_feats.view(batch_size * num_nodes, self.num_heads, -1)\n",
    "        edge_indices_row = edges[:,0] * num_nodes + edges[:,1]\n",
    "        edge_indices_col = edges[:,0] * num_nodes + edges[:,2]\n",
    "        a_input = torch.cat([\n",
    "            torch.index_select(input=node_feats_flat, index=edge_indices_row, dim=0),\n",
    "            torch.index_select(input=node_feats_flat, index=edge_indices_col, dim=0)\n",
    "        ], dim=-1) # Index select returns a tensor with node_feats_flat being indexed at the desired positions along dim=0\n",
    "\n",
    "        # Calculate attention MLP output (independent for each head)\n",
    "        attn_logits = torch.einsum('bhc,hc->bh', a_input, self.a)\n",
    "        attn_logits = self.leakyrelu(attn_logits)\n",
    "\n",
    "        # Map list of attention values back into a matrix\n",
    "        attn_matrix = attn_logits.new_zeros(adj_matrix.shape+(self.num_heads,)).fill_(-9e15)\n",
    "        attn_matrix[adj_matrix[...,None].repeat(1,1,1,self.num_heads) == 1] = attn_logits.reshape(-1)\n",
    "\n",
    "        # Weighted average of attention\n",
    "        attn_probs = F.softmax(attn_matrix, dim=2)\n",
    "        if print_attn_probs:\n",
    "            print(\"Attention probs\\n\", attn_probs.permute(0, 3, 1, 2))\n",
    "        node_feats = torch.einsum('bijh,bjhc->bihc', attn_probs, node_feats)\n",
    "\n",
    "        # If heads should be concatenated, we can do this by reshaping. Otherwise, take mean\n",
    "        if self.concat_heads:\n",
    "            node_feats = node_feats.reshape(batch_size, num_nodes, -1)\n",
    "        else:\n",
    "            node_feats = node_feats.mean(dim=2)\n",
    "\n",
    "        return node_feats"
   ]
  },
  {
   "cell_type": "code",
   "execution_count": 147,
   "id": "c8f2a5ca-0632-40cb-8149-3694d756d7d4",
   "metadata": {},
   "outputs": [
    {
     "name": "stdout",
     "output_type": "stream",
     "text": [
      "Node features:\n",
      " tensor([[[0., 1.],\n",
      "         [2., 3.],\n",
      "         [4., 5.],\n",
      "         [6., 7.]]])\n",
      "\n",
      "Adjacency matrix:\n",
      " tensor([[[1., 1., 0., 0.],\n",
      "         [1., 1., 1., 1.],\n",
      "         [0., 1., 1., 1.],\n",
      "         [0., 1., 1., 1.]]])\n"
     ]
    }
   ],
   "source": [
    "node_feats = torch.arange(8, dtype=torch.float32).view(1, 4, 2)\n",
    "adj_matrix = torch.Tensor([[[1, 1, 0, 0],\n",
    "                            [1, 1, 1, 1],\n",
    "                            [0, 1, 1, 1],\n",
    "                            [0, 1, 1, 1]]])\n",
    "\n",
    "print(\"Node features:\\n\", node_feats)\n",
    "print(\"\\nAdjacency matrix:\\n\", adj_matrix)"
   ]
  },
  {
   "cell_type": "code",
   "execution_count": 148,
   "id": "de73159e-c2c3-4ddb-a461-49afb0e105dc",
   "metadata": {},
   "outputs": [
    {
     "name": "stdout",
     "output_type": "stream",
     "text": [
      "Adjacency matrix tensor([[[1., 1., 0., 0.],\n",
      "         [1., 1., 1., 1.],\n",
      "         [0., 1., 1., 1.],\n",
      "         [0., 1., 1., 1.]]])\n",
      "Input features tensor([[[0., 1.],\n",
      "         [2., 3.],\n",
      "         [4., 5.],\n",
      "         [6., 7.]]])\n",
      "Output features tensor([[[1., 2.],\n",
      "         [3., 4.],\n",
      "         [4., 5.],\n",
      "         [4., 5.]]])\n"
     ]
    }
   ],
   "source": [
    "layer = GCNLayer(c_in=2, c_out=2)\n",
    "layer.projection.weight.data = torch.Tensor([[1., 0.], [0., 1.]])\n",
    "layer.projection.bias.data = torch.Tensor([0., 0.])\n",
    "\n",
    "with torch.no_grad():\n",
    "    out_feats = layer(node_feats, adj_matrix)\n",
    "\n",
    "print(\"Adjacency matrix\", adj_matrix)\n",
    "print(\"Input features\", node_feats)\n",
    "print(\"Output features\", out_feats)"
   ]
  },
  {
   "cell_type": "code",
   "execution_count": 149,
   "id": "b0951909-f84a-4abe-99ac-05da5e246595",
   "metadata": {},
   "outputs": [
    {
     "name": "stdout",
     "output_type": "stream",
     "text": [
      "Attention probs\n",
      " tensor([[[[0.3543, 0.6457, 0.0000, 0.0000],\n",
      "          [0.1096, 0.1450, 0.2642, 0.4813],\n",
      "          [0.0000, 0.1858, 0.2885, 0.5257],\n",
      "          [0.0000, 0.2391, 0.2696, 0.4913]],\n",
      "\n",
      "         [[0.5100, 0.4900, 0.0000, 0.0000],\n",
      "          [0.2975, 0.2436, 0.2340, 0.2249],\n",
      "          [0.0000, 0.3838, 0.3142, 0.3019],\n",
      "          [0.0000, 0.4018, 0.3289, 0.2693]]]])\n",
      "Adjacency matrix tensor([[[1., 1., 0., 0.],\n",
      "         [1., 1., 1., 1.],\n",
      "         [0., 1., 1., 1.],\n",
      "         [0., 1., 1., 1.]]])\n",
      "Input features tensor([[[0., 1.],\n",
      "         [2., 3.],\n",
      "         [4., 5.],\n",
      "         [6., 7.]]])\n",
      "Output features tensor([[[1.2913, 1.9800],\n",
      "         [4.2344, 3.7725],\n",
      "         [4.6798, 4.8362],\n",
      "         [4.5043, 4.7351]]])\n"
     ]
    }
   ],
   "source": [
    "layer = GATLayer(2, 2, num_heads=2)\n",
    "layer.projection.weight.data = torch.Tensor([[1., 0.], [0., 1.]])\n",
    "layer.projection.bias.data = torch.Tensor([0., 0.])\n",
    "layer.a.data = torch.Tensor([[-0.2, 0.3], [0.1, -0.1]])\n",
    "\n",
    "with torch.no_grad():\n",
    "    out_feats = layer(node_feats, adj_matrix, print_attn_probs=True)\n",
    "\n",
    "print(\"Adjacency matrix\", adj_matrix)\n",
    "print(\"Input features\", node_feats)\n",
    "print(\"Output features\", out_feats)"
   ]
  },
  {
   "cell_type": "code",
   "execution_count": 150,
   "id": "7f1da44b-e748-4e95-b8fe-58a0cbb919ae",
   "metadata": {},
   "outputs": [],
   "source": [
    "import torch_geometric\n",
    "import torch_geometric.nn as geom_nn\n",
    "import torch_geometric.data as geom_data"
   ]
  },
  {
   "cell_type": "code",
   "execution_count": 151,
   "id": "05d361a6-4c2e-4446-8901-b0cb04741faa",
   "metadata": {},
   "outputs": [],
   "source": [
    "gnn_layer_by_name = {\n",
    "    \"GCN\": geom_nn.GCNConv,\n",
    "    \"GAT\": geom_nn.GATConv,\n",
    "    \"GraphConv\": geom_nn.GraphConv,\n",
    "    \"ChebNet\": geom_nn.conv.cheb_conv\n",
    "}"
   ]
  },
  {
   "cell_type": "code",
   "execution_count": 152,
   "id": "b458361e-afc5-4da2-b070-3c1c45f01eb3",
   "metadata": {},
   "outputs": [],
   "source": [
    "tu_dataset = torch_geometric.datasets.TUDataset(root=DATASET_PATH, name=\"MUTAG\")"
   ]
  },
  {
   "cell_type": "code",
   "execution_count": 153,
   "id": "3ca5f506-a139-464d-8e4e-91350cb2a06f",
   "metadata": {},
   "outputs": [
    {
     "name": "stdout",
     "output_type": "stream",
     "text": [
      "Data object: Data(x=[3371, 7], edge_index=[2, 7442], edge_attr=[7442, 4], y=[188])\n",
      "Length: 188\n",
      "Average label: 0.66\n"
     ]
    }
   ],
   "source": [
    "print(\"Data object:\", tu_dataset.data)\n",
    "print(\"Length:\", len(tu_dataset))\n",
    "print(f\"Average label: {tu_dataset.data.y.float().mean().item():4.2f}\")"
   ]
  },
  {
   "cell_type": "code",
   "execution_count": 154,
   "id": "34bb729d-cba1-421b-9c69-1d8159c8da5e",
   "metadata": {},
   "outputs": [],
   "source": [
    "torch.manual_seed(42)\n",
    "tu_dataset.shuffle()\n",
    "train_dataset = tu_dataset[:150]\n",
    "test_dataset = tu_dataset[150:]"
   ]
  },
  {
   "cell_type": "code",
   "execution_count": 155,
   "id": "1173845b-86b0-4634-8b8a-675de4ff6f0a",
   "metadata": {},
   "outputs": [],
   "source": [
    "graph_train_loader = geom_data.DataLoader(train_dataset, batch_size=64, shuffle=True)\n",
    "graph_val_loader = geom_data.DataLoader(test_dataset, batch_size=64) # Additional loader if you want to change to a larger dataset\n",
    "graph_test_loader = geom_data.DataLoader(test_dataset, batch_size=64)"
   ]
  },
  {
   "cell_type": "code",
   "execution_count": 156,
   "id": "2e8d3dd8-b16b-48a2-80ff-393986125983",
   "metadata": {},
   "outputs": [
    {
     "name": "stdout",
     "output_type": "stream",
     "text": [
      "Batch: Batch(edge_index=[2, 1512], x=[687, 7], edge_attr=[1512, 4], y=[38], batch=[687], ptr=[39])\n",
      "Labels: tensor([1, 1, 1, 0, 0, 0, 1, 1, 1, 0])\n",
      "Batch indices: tensor([0, 0, 0, 0, 0, 0, 0, 0, 0, 0, 0, 0, 1, 1, 1, 1, 1, 1, 1, 1, 1, 1, 1, 1,\n",
      "        1, 1, 1, 1, 1, 1, 1, 1, 1, 1, 2, 2, 2, 2, 2, 2])\n"
     ]
    }
   ],
   "source": [
    "batch = next(iter(graph_test_loader))\n",
    "print(\"Batch:\", batch)\n",
    "print(\"Labels:\", batch.y[:10])\n",
    "print(\"Batch indices:\", batch.batch[:40])"
   ]
  },
  {
   "cell_type": "code",
   "execution_count": 157,
   "id": "f321ba29-ee2a-4465-b60e-27e1b6cc8eb8",
   "metadata": {},
   "outputs": [
    {
     "data": {
      "text/plain": [
       "tensor([1, 1, 1, 0, 0, 0, 1, 1, 1, 0, 1, 1, 1, 1, 1, 1, 1, 0, 1, 1, 1, 1, 1, 1,\n",
       "        0, 1, 1, 1, 0, 1, 0, 0, 1, 1, 0, 0, 1, 0])"
      ]
     },
     "execution_count": 157,
     "metadata": {},
     "output_type": "execute_result"
    }
   ],
   "source": [
    "batch.y"
   ]
  },
  {
   "cell_type": "code",
   "execution_count": 158,
   "id": "d6aea1b2-e9e8-433d-92af-2e67d7cc0e9b",
   "metadata": {},
   "outputs": [],
   "source": [
    "class GNNModel(nn.Module):\n",
    "\n",
    "    def __init__(self, c_in, c_hidden, c_out, num_layers=2, layer_name=\"GCN\", dp_rate=0.1, **kwargs):\n",
    "        \"\"\"\n",
    "        Inputs:\n",
    "            c_in - Dimension of input features\n",
    "            c_hidden - Dimension of hidden features\n",
    "            c_out - Dimension of the output features. Usually number of classes in classification\n",
    "            num_layers - Number of \"hidden\" graph layers\n",
    "            layer_name - String of the graph layer to use\n",
    "            dp_rate - Dropout rate to apply throughout the network\n",
    "            kwargs - Additional arguments for the graph layer (e.g. number of heads for GAT)\n",
    "        \"\"\"\n",
    "        super().__init__()\n",
    "        gnn_layer = gnn_layer_by_name[layer_name]\n",
    "\n",
    "        layers = []\n",
    "        in_channels, out_channels = c_in, c_hidden\n",
    "        for l_idx in range(num_layers-1):\n",
    "            layers += [\n",
    "                gnn_layer(in_channels=in_channels,\n",
    "                          out_channels=out_channels,\n",
    "                          **kwargs),\n",
    "                nn.ReLU(inplace=True),\n",
    "                nn.Dropout(dp_rate)\n",
    "            ]\n",
    "            in_channels = c_hidden\n",
    "        layers += [gnn_layer(in_channels=in_channels,\n",
    "                             out_channels=c_out,\n",
    "                             **kwargs)]\n",
    "        self.layers = nn.ModuleList(layers)\n",
    "\n",
    "    def forward(self, x, edge_index):\n",
    "        \"\"\"\n",
    "        Inputs:\n",
    "            x - Input features per node\n",
    "            edge_index - List of vertex index pairs representing the edges in the graph (PyTorch geometric notation)\n",
    "        \"\"\"\n",
    "        for l in self.layers:\n",
    "            # For graph layers, we need to add the \"edge_index\" tensor as additional input\n",
    "            # All PyTorch Geometric graph layer inherit the class \"MessagePassing\", hence\n",
    "            # we can simply check the class type.\n",
    "            if isinstance(l, geom_nn.MessagePassing):\n",
    "                x = l(x, edge_index)\n",
    "            else:\n",
    "                x = l(x)\n",
    "        return x"
   ]
  },
  {
   "cell_type": "code",
   "execution_count": 159,
   "id": "2a4b277d-b327-4bfb-bb97-1126cced60e8",
   "metadata": {},
   "outputs": [],
   "source": [
    "class GraphGNNModel(nn.Module):\n",
    "\n",
    "    def __init__(self, c_in, c_hidden, c_out, dp_rate_linear=0.5, **kwargs):\n",
    "        \"\"\"\n",
    "        Inputs:\n",
    "            c_in - Dimension of input features\n",
    "            c_hidden - Dimension of hidden features\n",
    "            c_out - Dimension of output features (usually number of classes)\n",
    "            dp_rate_linear - Dropout rate before the linear layer (usually much higher than inside the GNN)\n",
    "            kwargs - Additional arguments for the GNNModel object\n",
    "        \"\"\"\n",
    "        super().__init__()\n",
    "        self.GNN = GNNModel(c_in=c_in,\n",
    "                            c_hidden=c_hidden,\n",
    "                            c_out=c_hidden, # Not our prediction output yet!\n",
    "                            **kwargs)\n",
    "        self.head = nn.Sequential(\n",
    "            nn.Dropout(dp_rate_linear),\n",
    "            nn.Linear(c_hidden, c_out)\n",
    "        )\n",
    "\n",
    "    def forward(self, x, edge_index, batch_idx):\n",
    "        \"\"\"\n",
    "        Inputs:\n",
    "            x - Input features per node\n",
    "            edge_index - List of vertex index pairs representing the edges in the graph (PyTorch geometric notation)\n",
    "            batch_idx - Index of batch element for each node\n",
    "        \"\"\"\n",
    "        x = self.GNN(x, edge_index)\n",
    "        x = geom_nn.global_mean_pool(x, batch_idx) # Average pooling\n",
    "        x = self.head(x)\n",
    "        return x"
   ]
  },
  {
   "cell_type": "code",
   "execution_count": 160,
   "id": "ee296ae0-2a3d-4ffb-aaed-35b1d71a62e5",
   "metadata": {},
   "outputs": [],
   "source": [
    "class GraphLevelGNN(pl.LightningModule):\n",
    "\n",
    "    def __init__(self, **model_kwargs):\n",
    "        super().__init__()\n",
    "        # Saving hyperparameters\n",
    "        self.save_hyperparameters()\n",
    "\n",
    "        self.model = GraphGNNModel(**model_kwargs)\n",
    "        self.loss_module = nn.BCEWithLogitsLoss() if self.hparams.c_out == 1 else nn.CrossEntropyLoss()\n",
    "\n",
    "    def forward(self, data, mode=\"train\"):\n",
    "        x, edge_index, batch_idx = data.x, data.edge_index, data.batch\n",
    "        x = self.model(x, edge_index, batch_idx)\n",
    "        x = x.squeeze(dim=-1)\n",
    "\n",
    "        if self.hparams.c_out == 1:\n",
    "            preds = (x > 0).float()\n",
    "            data.y = data.y.float()\n",
    "        else:\n",
    "            preds = x.argmax(dim=-1)\n",
    "        loss = self.loss_module(x, data.y)\n",
    "        acc = (preds == data.y).sum().float() / preds.shape[0]\n",
    "        return loss, acc\n",
    "\n",
    "    def configure_optimizers(self):\n",
    "        optimizer = optim.AdamW(self.parameters(), lr=1e-2, weight_decay=0.0) # High lr because of small dataset and small model\n",
    "        return optimizer\n",
    "\n",
    "    def training_step(self, batch, batch_idx):\n",
    "        loss, acc = self.forward(batch, mode=\"train\")\n",
    "        self.log('train_loss', loss)\n",
    "        self.log('train_acc', acc)\n",
    "        return loss\n",
    "\n",
    "    def validation_step(self, batch, batch_idx):\n",
    "        _, acc = self.forward(batch, mode=\"val\")\n",
    "        self.log('val_acc', acc)\n",
    "\n",
    "    def test_step(self, batch, batch_idx):\n",
    "        _, acc = self.forward(batch, mode=\"test\")\n",
    "        self.log('test_acc', acc)"
   ]
  },
  {
   "cell_type": "code",
   "execution_count": 188,
   "id": "f6bea813-5ac7-4091-8e3a-6b2a13fe517b",
   "metadata": {},
   "outputs": [],
   "source": [
    "def train_graph_classifier(model_name, **model_kwargs):\n",
    "    pl.seed_everything(42)\n",
    "\n",
    "    # Create a PyTorch Lightning trainer with the generation callback\n",
    "    root_dir = os.path.join(CHECKPOINT_PATH, \"GraphLevel\" + model_name)\n",
    "    os.makedirs(root_dir, exist_ok=True)\n",
    "    trainer = pl.Trainer(default_root_dir=root_dir,\n",
    "                         callbacks=[ModelCheckpoint(save_weights_only=True, mode=\"max\", monitor=\"val_acc\")],\n",
    "                         gpus=1 if str(device).startswith(\"cuda\") else 0,\n",
    "                         max_epochs=5,\n",
    "                         progress_bar_refresh_rate=0)\n",
    "    trainer.logger._default_hp_metric = None # Optional logging argument that we don't need\n",
    "\n",
    "    # Check whether pretrained model exists. If yes, load it and skip training\n",
    "    pretrained_filename = os.path.join(CHECKPOINT_PATH, f\"GraphLevel{model_name}.ckpt\")\n",
    "    if os.path.isfile(pretrained_filename):\n",
    "        print(\"Found pretrained model, loading...\")\n",
    "        model = GraphLevelGNN.load_from_checkpoint(pretrained_filename)\n",
    "    else:\n",
    "        pl.seed_everything(42)\n",
    "        model = GraphLevelGNN(c_in=7,\n",
    "                              c_out=1 if tu_dataset.num_classes==2 else tu_dataset.num_classes,\n",
    "                              **model_kwargs)\n",
    "        trainer.fit(model, graph_train_loader, graph_val_loader)\n",
    "        model = GraphLevelGNN.load_from_checkpoint(trainer.checkpoint_callback.best_model_path)\n",
    "    # Test best model on validation and test set\n",
    "    train_result = trainer.test(model, test_dataloaders=graph_train_loader, verbose=False)\n",
    "    test_result = trainer.test(model, test_dataloaders=graph_test_loader, verbose=False)\n",
    "    result = {\"test\": test_result[0]['test_acc'], \"train\": train_result[0]['test_acc']}\n",
    "    return model, result"
   ]
  },
  {
   "cell_type": "code",
   "execution_count": 189,
   "id": "451292a8-db28-456c-971b-2844c8f716a1",
   "metadata": {},
   "outputs": [],
   "source": [
    "CHECKPOINT_PATH = \"../saved_models\""
   ]
  },
  {
   "cell_type": "code",
   "execution_count": 190,
   "id": "df860967-74b2-46d2-aa22-7904fdafe7ba",
   "metadata": {},
   "outputs": [
    {
     "name": "stderr",
     "output_type": "stream",
     "text": [
      "Global seed set to 42\n",
      "GPU available: False, used: False\n",
      "TPU available: False, using: 0 TPU cores\n",
      "IPU available: False, using: 0 IPUs\n",
      "Global seed set to 42\n",
      "\n",
      "  | Name        | Type              | Params\n",
      "--------------------------------------------------\n",
      "0 | model       | GraphGNNModel     | 266 K \n",
      "1 | loss_module | BCEWithLogitsLoss | 0     \n",
      "--------------------------------------------------\n",
      "266 K     Trainable params\n",
      "0         Non-trainable params\n",
      "266 K     Total params\n",
      "1.067     Total estimated model params size (MB)\n",
      "Global seed set to 42\n"
     ]
    }
   ],
   "source": [
    "model, result = train_graph_classifier(model_name=\"GraphConv\",\n",
    "                                       c_hidden=256,\n",
    "                                       layer_name=\"GraphConv\",\n",
    "                                       num_layers=3,\n",
    "                                       dp_rate_linear=0.5,\n",
    "                                       dp_rate=0.0)"
   ]
  },
  {
   "cell_type": "code",
   "execution_count": 191,
   "id": "9e71acd7-cac1-4953-965f-739a4b8f2752",
   "metadata": {},
   "outputs": [
    {
     "name": "stdout",
     "output_type": "stream",
     "text": [
      "Train performance: 60.94%\n",
      "Test performance:  60.00%\n"
     ]
    }
   ],
   "source": [
    "print(f\"Train performance: {100.0*result['train']:4.2f}%\")\n",
    "print(f\"Test performance:  {100.0*result['test']:4.2f}%\")"
   ]
  },
  {
   "cell_type": "code",
   "execution_count": 43,
   "id": "0d19f540-553c-4f00-beef-11a91923c7d7",
   "metadata": {},
   "outputs": [
    {
     "data": {
      "text/plain": [
       "tensor([[-3.2230],\n",
       "        [ 1.8471],\n",
       "        [ 1.5926],\n",
       "        [-3.6439],\n",
       "        [-0.4893],\n",
       "        [-1.2993],\n",
       "        [ 1.9488],\n",
       "        [ 0.4565],\n",
       "        [ 1.6090],\n",
       "        [-0.2822],\n",
       "        [ 2.1034],\n",
       "        [ 0.1528],\n",
       "        [ 1.8517],\n",
       "        [ 1.6165],\n",
       "        [ 2.0518],\n",
       "        [ 1.6256],\n",
       "        [ 1.5763],\n",
       "        [-0.5916],\n",
       "        [-1.3134],\n",
       "        [-1.1191],\n",
       "        [-0.0180],\n",
       "        [-3.3688],\n",
       "        [ 0.1238],\n",
       "        [ 1.8584],\n",
       "        [-3.8840],\n",
       "        [ 0.5434],\n",
       "        [-0.9164],\n",
       "        [-4.2485],\n",
       "        [-0.0924],\n",
       "        [ 2.1481],\n",
       "        [-1.5898],\n",
       "        [-0.7593],\n",
       "        [ 1.3210],\n",
       "        [ 1.8365],\n",
       "        [-1.4144],\n",
       "        [-1.0225],\n",
       "        [ 2.3089],\n",
       "        [-0.2016]], grad_fn=<AddmmBackward>)"
      ]
     },
     "execution_count": 43,
     "metadata": {},
     "output_type": "execute_result"
    }
   ],
   "source": [
    "model.model(batch.x, batch.edge_index, batch.batch)"
   ]
  },
  {
   "cell_type": "code",
   "execution_count": 37,
   "id": "2659adeb-7a34-4afc-a269-1a3f0a3bc3aa",
   "metadata": {},
   "outputs": [
    {
     "name": "stdout",
     "output_type": "stream",
     "text": [
      "Batch: Batch(edge_index=[2, 1512], x=[687, 7], edge_attr=[1512, 4], y=[38], batch=[687], ptr=[39])\n",
      "Labels: tensor([1, 1, 1, 0, 0, 0, 1, 1, 1, 0])\n",
      "Batch indices: tensor([0, 0, 0, 0, 0, 0, 0, 0, 0, 0, 0, 0, 1, 1, 1, 1, 1, 1, 1, 1, 1, 1, 1, 1,\n",
      "        1, 1, 1, 1, 1, 1, 1, 1, 1, 1, 2, 2, 2, 2, 2, 2])\n"
     ]
    }
   ],
   "source": [
    "batch = next(iter(graph_test_loader))\n",
    "print(\"Batch:\", batch)\n",
    "print(\"Labels:\", batch.y[:10])\n",
    "print(\"Batch indices:\", batch.batch[:40])"
   ]
  },
  {
   "cell_type": "code",
   "execution_count": 165,
   "id": "324eab37-da32-4001-bccc-49782601c6df",
   "metadata": {},
   "outputs": [],
   "source": [
    "from torch_geometric.data import Data\n",
    "from torch_geometric.loader import DataLoader"
   ]
  },
  {
   "cell_type": "code",
   "execution_count": 166,
   "id": "81494c41-cc25-4997-a257-b879c1844223",
   "metadata": {},
   "outputs": [],
   "source": [
    "from torch_cluster import radius_graph #to build random geometric graphs, given the positions in 2D and the radius"
   ]
  },
  {
   "cell_type": "code",
   "execution_count": 123,
   "id": "7a42c90d-5da3-4296-90a6-74080591974a",
   "metadata": {},
   "outputs": [],
   "source": [
    "size = 50\n",
    "radius = 0.1"
   ]
  },
  {
   "cell_type": "code",
   "execution_count": 124,
   "id": "8a1ab3b7-54bf-49c9-962e-f0abf0a7693f",
   "metadata": {},
   "outputs": [],
   "source": [
    "pos = torch.rand(size,2)\n",
    "\n",
    "batch = torch.zeros(int(size)).type(torch.LongTensor)\n",
    "x = torch.ones(size,7)\n",
    "edge_index = radius_graph(pos, r=radius, batch=batch, loop=False, max_num_neighbors=(size))\n",
    "gr  = Data(x=x,  edge_index = edge_index, y=torch.ones(1))"
   ]
  },
  {
   "cell_type": "code",
   "execution_count": 125,
   "id": "a2dd0e6e-71b4-49bd-84b3-61075f50c0a2",
   "metadata": {},
   "outputs": [],
   "source": [
    "data_list  =[]"
   ]
  },
  {
   "cell_type": "code",
   "execution_count": 126,
   "id": "11769605-689c-4874-98a3-dd3fd108fa36",
   "metadata": {},
   "outputs": [],
   "source": [
    "data_list = [gr for i in range(0,188)]"
   ]
  },
  {
   "cell_type": "code",
   "execution_count": 127,
   "id": "fda8f2ed-fc76-4ff9-a5ba-e51885c94078",
   "metadata": {},
   "outputs": [],
   "source": [
    "torch.manual_seed(42)\n",
    "train_dataset = data_list[:150]\n",
    "test_dataset = data_list[150:]"
   ]
  },
  {
   "cell_type": "code",
   "execution_count": 128,
   "id": "5bdd94a9-37ed-451f-8bf0-ad0d7a14592d",
   "metadata": {},
   "outputs": [],
   "source": [
    "graph_train_loader = geom_data.DataLoader(train_dataset, batch_size=64, shuffle=True)\n",
    "graph_val_loader = geom_data.DataLoader(test_dataset, batch_size=64) # Additional loader if you want to change to a larger dataset\n",
    "graph_test_loader = geom_data.DataLoader(test_dataset, batch_size=64)"
   ]
  },
  {
   "cell_type": "code",
   "execution_count": 129,
   "id": "9213ecdf-3202-45c5-86b6-8bd089d39397",
   "metadata": {},
   "outputs": [
    {
     "name": "stdout",
     "output_type": "stream",
     "text": [
      "Batch: Batch(x=[1900, 7], edge_index=[2, 2888], y=[38], batch=[1900], ptr=[39])\n",
      "Labels: tensor([1., 1., 1., 1., 1., 1., 1., 1., 1., 1.])\n",
      "Batch indices: tensor([0, 0, 0, 0, 0, 0, 0, 0, 0, 0, 0, 0, 0, 0, 0, 0, 0, 0, 0, 0, 0, 0, 0, 0,\n",
      "        0, 0, 0, 0, 0, 0, 0, 0, 0, 0, 0, 0, 0, 0, 0, 0])\n"
     ]
    }
   ],
   "source": [
    "batch = next(iter(graph_test_loader))\n",
    "print(\"Batch:\", batch)\n",
    "print(\"Labels:\", batch.y[:10])\n",
    "print(\"Batch indices:\", batch.batch[:40])"
   ]
  },
  {
   "cell_type": "code",
   "execution_count": 130,
   "id": "399b6b0a-9f76-44cf-b510-4fa7f839b6a9",
   "metadata": {},
   "outputs": [
    {
     "data": {
      "text/plain": [
       "tensor([[ -9.1319],\n",
       "        [ -6.8605],\n",
       "        [ -6.9431],\n",
       "        [ -8.7201],\n",
       "        [ -7.9922],\n",
       "        [ -7.7088],\n",
       "        [ -5.9861],\n",
       "        [ -8.0117],\n",
       "        [ -8.1639],\n",
       "        [ -6.8513],\n",
       "        [ -7.6101],\n",
       "        [ -9.0859],\n",
       "        [ -9.1221],\n",
       "        [ -7.5203],\n",
       "        [ -6.8861],\n",
       "        [ -8.8371],\n",
       "        [ -9.1392],\n",
       "        [ -8.1272],\n",
       "        [ -9.4257],\n",
       "        [ -9.4246],\n",
       "        [ -7.0455],\n",
       "        [ -8.0315],\n",
       "        [ -9.3308],\n",
       "        [-10.0852],\n",
       "        [ -7.1211],\n",
       "        [ -9.3725],\n",
       "        [ -6.3282],\n",
       "        [ -8.6370],\n",
       "        [ -8.3251],\n",
       "        [ -8.7173],\n",
       "        [ -7.4847],\n",
       "        [ -7.0229],\n",
       "        [ -6.3893],\n",
       "        [ -8.2946],\n",
       "        [ -7.8122],\n",
       "        [ -9.5255],\n",
       "        [ -8.0683],\n",
       "        [ -7.5767]], grad_fn=<AddmmBackward>)"
      ]
     },
     "execution_count": 130,
     "metadata": {},
     "output_type": "execute_result"
    }
   ],
   "source": [
    "model.model(batch.x, batch.edge_index, batch.batch)"
   ]
  },
  {
   "cell_type": "code",
   "execution_count": 50,
   "id": "2bf27875-bfaf-4f9c-95ff-2c1decfb0736",
   "metadata": {},
   "outputs": [
    {
     "data": {
      "text/plain": [
       "torch.Size([50, 4])"
      ]
     },
     "execution_count": 50,
     "metadata": {},
     "output_type": "execute_result"
    }
   ],
   "source": [
    "g.edge_attr.size()"
   ]
  },
  {
   "cell_type": "markdown",
   "id": "02b686da-4fa8-4e88-ae47-9e668c67cc31",
   "metadata": {},
   "source": [
    "Some properties about the data:\n",
    "- y is the class and given by tensor([0]) or tensor([1]), torch.Size([1])\n",
    "- x is a num_nodes x feature dimension tensor, torch.Size([22, 7])\n",
    "- edge_attr ist ein torch.Size([50, 4]) tensor"
   ]
  },
  {
   "cell_type": "code",
   "execution_count": null,
   "id": "0d1c9baf-cec6-42dd-aa56-1c136ba06b4a",
   "metadata": {},
   "outputs": [],
   "source": [
    "pos = torch.rand(size,2)\n",
    "\n",
    "batch = torch.zeros(int(size)).type(torch.LongTensor)\n",
    "x = torch.ones(size,7)\n",
    "edge_index = radius_graph(pos, r=radius, batch=batch, loop=False, max_num_neighbors=(size))\n",
    "gr  = Data(x=x,  edge_index = edge_index, y=torch.ones(1))\n",
    "\n",
    "data_list = [gr for i in range(0,188)]\n",
    "\n",
    "torch.manual_seed(42)\n",
    "train_dataset = data_list[:150]\n",
    "test_dataset = data_list[150:]\n",
    "\n",
    "graph_train_loader = geom_data.DataLoader(train_dataset, batch_size=64, shuffle=True)\n",
    "graph_val_loader = geom_data.DataLoader(test_dataset, batch_size=64) # Additional loader if you want to change to a larger dataset\n",
    "graph_test_loader = geom_data.DataLoader(test_dataset, batch_size=64)"
   ]
  },
  {
   "cell_type": "code",
   "execution_count": 167,
   "id": "dcdc6b59-7325-416b-9085-f61c1dc6f6e4",
   "metadata": {},
   "outputs": [],
   "source": [
    "low_pass = lambda x:  x[:,0]*x[:,1] #the signal\n",
    "data_list=[]"
   ]
  },
  {
   "cell_type": "code",
   "execution_count": 168,
   "id": "f64fac12-752e-44c7-81df-880b708aab90",
   "metadata": {},
   "outputs": [],
   "source": [
    "radius = 0.1\n",
    "\n",
    "for i in range(0,100):\n",
    "    pos = torch.rand(size,2)\n",
    "\n",
    "    batch = torch.zeros(int(size)).type(torch.LongTensor)\n",
    "    #x = low_pass(pos)\n",
    "    x = torch.ones(size,7)\n",
    "    edge_index = radius_graph(pos, r=radius, batch=batch, loop=False, max_num_neighbors=(size))\n",
    "    gr  = Data(x=x,  edge_index = edge_index, y=torch.ones(1))\n",
    "    \n",
    "    \n",
    "    data_list.append(gr)"
   ]
  },
  {
   "cell_type": "code",
   "execution_count": 108,
   "id": "8b476304-47b8-43a4-9cf8-edc6232ebafc",
   "metadata": {},
   "outputs": [],
   "source": [
    "radius = 0.5"
   ]
  },
  {
   "cell_type": "code",
   "execution_count": 169,
   "id": "30981635-0f47-4ba9-91d1-e06a9db8f533",
   "metadata": {},
   "outputs": [],
   "source": [
    "radius = 0.5\n",
    "\n",
    "for i in range(0,100):\n",
    "    pos = torch.rand(size,2)\n",
    "\n",
    "    batch = torch.zeros(int(size)).type(torch.LongTensor)\n",
    "    #x = low_pass(pos)\n",
    "    \n",
    "    x = torch.ones(size,7)\n",
    "    edge_index = radius_graph(pos, r=radius, batch=batch, loop=False, max_num_neighbors=(size))\n",
    "    gr  = Data(x=x,  edge_index = edge_index, y=torch.zeros(1))\n",
    "    \n",
    "    \n",
    "    data_list.append(gr)"
   ]
  },
  {
   "cell_type": "code",
   "execution_count": 170,
   "id": "8d9d96d9-5d95-47a3-a59c-fce9d00283d6",
   "metadata": {},
   "outputs": [],
   "source": [
    "import random\n",
    "\n",
    "random.shuffle(data_list)"
   ]
  },
  {
   "cell_type": "code",
   "execution_count": 171,
   "id": "03f9a13e-aeb2-401e-8584-887507f7e39e",
   "metadata": {},
   "outputs": [],
   "source": [
    "train_dataset = data_list[:150]\n",
    "test_dataset = data_list[150:]\n",
    "\n",
    "graph_train_loader = geom_data.DataLoader(train_dataset, batch_size=64, shuffle=True)\n",
    "graph_val_loader = geom_data.DataLoader(test_dataset, batch_size=64) # Additional loader if you want to change to a larger dataset\n",
    "graph_test_loader = geom_data.DataLoader(test_dataset, batch_size=64)"
   ]
  },
  {
   "cell_type": "code",
   "execution_count": 172,
   "id": "bfa86489-cea7-41df-9b34-6f3d4043767f",
   "metadata": {},
   "outputs": [
    {
     "name": "stdout",
     "output_type": "stream",
     "text": [
      "Batch: Batch(x=[2500, 7], edge_index=[2, 28806], y=[50], batch=[2500], ptr=[51])\n",
      "Labels: tensor([0., 0., 1., 1., 1., 1., 1., 1., 0., 0.])\n",
      "Batch indices: tensor([0, 0, 0, 0, 0, 0, 0, 0, 0, 0, 0, 0, 0, 0, 0, 0, 0, 0, 0, 0, 0, 0, 0, 0,\n",
      "        0, 0, 0, 0, 0, 0, 0, 0, 0, 0, 0, 0, 0, 0, 0, 0])\n"
     ]
    }
   ],
   "source": [
    "batch = next(iter(graph_test_loader))\n",
    "print(\"Batch:\", batch)\n",
    "print(\"Labels:\", batch.y[:10])\n",
    "print(\"Batch indices:\", batch.batch[:40])"
   ]
  },
  {
   "cell_type": "code",
   "execution_count": 173,
   "id": "741dbe30-9e3c-4d02-9f53-43f797d864fd",
   "metadata": {},
   "outputs": [
    {
     "data": {
      "text/plain": [
       "tensor([[ 1.5325e+03],\n",
       "        [ 1.1569e+03],\n",
       "        [-6.8346e-02],\n",
       "        [-4.3837e-02],\n",
       "        [-2.0376e-01],\n",
       "        [-3.5072e-01],\n",
       "        [ 3.4360e-01],\n",
       "        [-8.2068e-01],\n",
       "        [-1.6973e+02],\n",
       "        [ 5.6647e+02],\n",
       "        [ 1.8841e-01],\n",
       "        [ 6.3970e+02],\n",
       "        [ 3.8953e-01],\n",
       "        [ 9.4402e+02],\n",
       "        [ 9.0231e-01],\n",
       "        [-1.8098e+02],\n",
       "        [-1.0130e+00],\n",
       "        [-8.0796e-01],\n",
       "        [-3.8530e-01],\n",
       "        [-2.5664e+02],\n",
       "        [ 1.4011e+02],\n",
       "        [-2.2152e-01],\n",
       "        [ 2.0093e+02],\n",
       "        [ 3.7387e+02],\n",
       "        [ 2.6740e+02],\n",
       "        [ 1.1239e-03],\n",
       "        [ 1.3226e+03],\n",
       "        [ 2.9093e+02],\n",
       "        [ 1.1489e+03],\n",
       "        [-3.9291e+02],\n",
       "        [ 6.3736e-01],\n",
       "        [-1.3027e-01],\n",
       "        [ 6.1725e-01],\n",
       "        [-1.7850e-01],\n",
       "        [ 1.3242e+00],\n",
       "        [ 1.5162e+03],\n",
       "        [ 1.0109e+03],\n",
       "        [-4.8353e-01],\n",
       "        [ 1.4924e+01],\n",
       "        [ 1.4140e+03],\n",
       "        [-3.1446e-01],\n",
       "        [ 1.1297e+03],\n",
       "        [-2.4820e-02],\n",
       "        [ 3.7255e-02],\n",
       "        [-6.4424e-03],\n",
       "        [-4.3678e-01],\n",
       "        [ 1.6709e+03],\n",
       "        [-6.8076e-01],\n",
       "        [ 5.9701e-02],\n",
       "        [ 4.4088e+02]], grad_fn=<AddmmBackward>)"
      ]
     },
     "execution_count": 173,
     "metadata": {},
     "output_type": "execute_result"
    }
   ],
   "source": [
    "model.model(batch.x, batch.edge_index, batch.batch)"
   ]
  },
  {
   "cell_type": "code",
   "execution_count": 118,
   "id": "57263ec2-e873-402f-8595-c53dbebde1c9",
   "metadata": {},
   "outputs": [
    {
     "data": {
      "text/plain": [
       "tensor([8.0873e-01, 2.6418e-01, 1.6998e-02, 1.2221e-01, 1.0051e-01, 4.3133e-02,\n",
       "        4.4622e-01, 2.9936e-01, 1.2996e-02, 2.3738e-02, 5.0135e-01, 2.2327e-01,\n",
       "        1.5355e-01, 5.1377e-02, 7.2379e-01, 1.4552e-01, 6.6498e-01, 1.9077e-02,\n",
       "        2.6755e-04, 1.7527e-02, 3.9288e-01, 7.8642e-03, 3.8919e-02, 5.6127e-01,\n",
       "        6.8729e-02, 7.2278e-05, 2.2618e-01, 4.1882e-03, 3.3535e-01, 1.6946e-01,\n",
       "        4.1903e-02, 2.8410e-01, 1.4061e-01, 3.7765e-02, 3.6337e-03, 4.8666e-02,\n",
       "        5.7002e-02, 5.6273e-02, 3.6069e-02, 3.8890e-03, 3.8393e-01, 4.9028e-02,\n",
       "        1.8765e-01, 7.1739e-01, 1.0291e-03, 2.8300e-01, 3.8148e-01, 3.7090e-01,\n",
       "        5.9778e-02, 1.5404e-01])"
      ]
     },
     "execution_count": 118,
     "metadata": {},
     "output_type": "execute_result"
    }
   ],
   "source": [
    "x"
   ]
  },
  {
   "cell_type": "code",
   "execution_count": 193,
   "id": "7bf863b5-8ab9-46c5-97f2-b5ae2a5a404b",
   "metadata": {},
   "outputs": [
    {
     "data": {
      "text/plain": [
       "torch.Size([50, 7])"
      ]
     },
     "execution_count": 193,
     "metadata": {},
     "output_type": "execute_result"
    }
   ],
   "source": [
    "x.shape"
   ]
  },
  {
   "cell_type": "code",
   "execution_count": null,
   "id": "fc173f5b-b8b6-48cc-b98a-fefccd8ff4bb",
   "metadata": {},
   "outputs": [],
   "source": []
  }
 ],
 "metadata": {
  "kernelspec": {
   "display_name": "Python 3",
   "language": "python",
   "name": "python3"
  },
  "language_info": {
   "codemirror_mode": {
    "name": "ipython",
    "version": 3
   },
   "file_extension": ".py",
   "mimetype": "text/x-python",
   "name": "python",
   "nbconvert_exporter": "python",
   "pygments_lexer": "ipython3",
   "version": "3.8.12"
  }
 },
 "nbformat": 4,
 "nbformat_minor": 5
}
